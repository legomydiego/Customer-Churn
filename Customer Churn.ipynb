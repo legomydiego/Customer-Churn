{
 "cells": [
  {
   "cell_type": "code",
   "execution_count": 1,
   "metadata": {},
   "outputs": [],
   "source": [
    "import pandas as pd\n",
    "import numpy as np\n",
    "import datetime\n",
    "import scipy\n",
    "from scipy import stats\n",
    "import matplotlib.pyplot as plt\n",
    "import seaborn as sns\n",
    "from sklearn.linear_model import LogisticRegression\n",
    "from sklearn.naive_bayes import BernoulliNB\n",
    "from sklearn.model_selection import train_test_split\n",
    "from sklearn.model_selection import cross_val_score\n",
    "from sklearn.metrics import accuracy_score, confusion_matrix, classification_report\n",
    "from sklearn import ensemble\n",
    "from sklearn.model_selection import GridSearchCV\n",
    "from sklearn.ensemble import RandomForestClassifier\n",
    "from sklearn import neighbors\n",
    "from imblearn.over_sampling import SMOTE\n",
    "from sklearn.metrics import roc_auc_score\n",
    "from sklearn.metrics import roc_curve\n",
    "%matplotlib inline"
   ]
  },
  {
   "cell_type": "code",
   "execution_count": 2,
   "metadata": {},
   "outputs": [],
   "source": [
    "import warnings\n",
    "warnings.filterwarnings('ignore')"
   ]
  },
  {
   "cell_type": "code",
   "execution_count": 3,
   "metadata": {},
   "outputs": [],
   "source": [
    "df = pd.read_csv('Data Science_take-home-exercise-data.csv', encoding = 'ISO-8859-1')"
   ]
  },
  {
   "cell_type": "code",
   "execution_count": 4,
   "metadata": {},
   "outputs": [
    {
     "data": {
      "text/html": [
       "<div>\n",
       "<style scoped>\n",
       "    .dataframe tbody tr th:only-of-type {\n",
       "        vertical-align: middle;\n",
       "    }\n",
       "\n",
       "    .dataframe tbody tr th {\n",
       "        vertical-align: top;\n",
       "    }\n",
       "\n",
       "    .dataframe thead th {\n",
       "        text-align: right;\n",
       "    }\n",
       "</style>\n",
       "<table border=\"1\" class=\"dataframe\">\n",
       "  <thead>\n",
       "    <tr style=\"text-align: right;\">\n",
       "      <th></th>\n",
       "      <th>SubscriberKey</th>\n",
       "      <th>EmailDomain</th>\n",
       "      <th>AccountCreatedDate</th>\n",
       "      <th>ProductType</th>\n",
       "      <th>BilledAmount</th>\n",
       "      <th>StartDate</th>\n",
       "      <th>EndDate</th>\n",
       "      <th>BeginningState</th>\n",
       "      <th>EndingState</th>\n",
       "      <th>TenureMonth</th>\n",
       "      <th>...</th>\n",
       "      <th>PercOfflineView</th>\n",
       "      <th>DaysSinceLastLogin</th>\n",
       "      <th>ViewMinPerDay</th>\n",
       "      <th>ViewMinPerActiveDay</th>\n",
       "      <th>ClipsPerDay</th>\n",
       "      <th>ClipsPerActiveDay</th>\n",
       "      <th>NCoursesPerDay</th>\n",
       "      <th>CourseCompletionRate</th>\n",
       "      <th>MaxCourseCompletionRate</th>\n",
       "      <th>CoursePillar</th>\n",
       "    </tr>\n",
       "  </thead>\n",
       "  <tbody>\n",
       "    <tr>\n",
       "      <th>0</th>\n",
       "      <td>5</td>\n",
       "      <td>social-media-productions</td>\n",
       "      <td>10/10/13</td>\n",
       "      <td>STD</td>\n",
       "      <td>29.00</td>\n",
       "      <td>4/17/15</td>\n",
       "      <td>5/17/15</td>\n",
       "      <td>Renewal</td>\n",
       "      <td>Renewed</td>\n",
       "      <td>19</td>\n",
       "      <td>...</td>\n",
       "      <td>0.0</td>\n",
       "      <td>13.0</td>\n",
       "      <td>10.737255</td>\n",
       "      <td>60.844444</td>\n",
       "      <td>6.941176</td>\n",
       "      <td>39.333333</td>\n",
       "      <td>0.176471</td>\n",
       "      <td>0.212801</td>\n",
       "      <td>0.419307</td>\n",
       "      <td>Software Development</td>\n",
       "    </tr>\n",
       "    <tr>\n",
       "      <th>1</th>\n",
       "      <td>13</td>\n",
       "      <td>hotmail</td>\n",
       "      <td>4/16/10</td>\n",
       "      <td>PLUS</td>\n",
       "      <td>16.81</td>\n",
       "      <td>6/30/15</td>\n",
       "      <td>8/1/15</td>\n",
       "      <td>Reactivation</td>\n",
       "      <td>Renewed</td>\n",
       "      <td>64</td>\n",
       "      <td>...</td>\n",
       "      <td>0.0</td>\n",
       "      <td>3.0</td>\n",
       "      <td>10.529825</td>\n",
       "      <td>22.229630</td>\n",
       "      <td>3.368421</td>\n",
       "      <td>7.111111</td>\n",
       "      <td>0.157895</td>\n",
       "      <td>0.190862</td>\n",
       "      <td>0.404102</td>\n",
       "      <td>Software Development</td>\n",
       "    </tr>\n",
       "    <tr>\n",
       "      <th>2</th>\n",
       "      <td>28</td>\n",
       "      <td>hotmail</td>\n",
       "      <td>9/6/12</td>\n",
       "      <td>STD</td>\n",
       "      <td>29.00</td>\n",
       "      <td>4/28/15</td>\n",
       "      <td>5/28/15</td>\n",
       "      <td>Renewal</td>\n",
       "      <td>Renewed</td>\n",
       "      <td>33</td>\n",
       "      <td>...</td>\n",
       "      <td>0.0</td>\n",
       "      <td>29.0</td>\n",
       "      <td>0.000000</td>\n",
       "      <td>0.000000</td>\n",
       "      <td>0.000000</td>\n",
       "      <td>0.000000</td>\n",
       "      <td>0.000000</td>\n",
       "      <td>0.000000</td>\n",
       "      <td>0.000000</td>\n",
       "      <td>None</td>\n",
       "    </tr>\n",
       "    <tr>\n",
       "      <th>3</th>\n",
       "      <td>51</td>\n",
       "      <td>gmail</td>\n",
       "      <td>12/8/13</td>\n",
       "      <td>STD</td>\n",
       "      <td>29.00</td>\n",
       "      <td>5/11/15</td>\n",
       "      <td>6/11/15</td>\n",
       "      <td>Renewal</td>\n",
       "      <td>Renewed</td>\n",
       "      <td>18</td>\n",
       "      <td>...</td>\n",
       "      <td>0.0</td>\n",
       "      <td>11.0</td>\n",
       "      <td>1.068519</td>\n",
       "      <td>19.233333</td>\n",
       "      <td>0.277778</td>\n",
       "      <td>5.000000</td>\n",
       "      <td>0.055556</td>\n",
       "      <td>0.116957</td>\n",
       "      <td>0.116957</td>\n",
       "      <td>Software Development</td>\n",
       "    </tr>\n",
       "    <tr>\n",
       "      <th>4</th>\n",
       "      <td>56</td>\n",
       "      <td>live</td>\n",
       "      <td>7/11/13</td>\n",
       "      <td>PLUS</td>\n",
       "      <td>49.00</td>\n",
       "      <td>8/23/15</td>\n",
       "      <td>9/23/15</td>\n",
       "      <td>Renewal</td>\n",
       "      <td>Renewed</td>\n",
       "      <td>26</td>\n",
       "      <td>...</td>\n",
       "      <td>0.0</td>\n",
       "      <td>2.0</td>\n",
       "      <td>1.725926</td>\n",
       "      <td>31.066667</td>\n",
       "      <td>0.333333</td>\n",
       "      <td>6.000000</td>\n",
       "      <td>0.055556</td>\n",
       "      <td>0.139678</td>\n",
       "      <td>0.139678</td>\n",
       "      <td>IT Pro</td>\n",
       "    </tr>\n",
       "  </tbody>\n",
       "</table>\n",
       "<p>5 rows × 31 columns</p>\n",
       "</div>"
      ],
      "text/plain": [
       "   SubscriberKey               EmailDomain AccountCreatedDate ProductType  \\\n",
       "0              5  social-media-productions           10/10/13         STD   \n",
       "1             13                   hotmail            4/16/10        PLUS   \n",
       "2             28                   hotmail             9/6/12         STD   \n",
       "3             51                     gmail            12/8/13         STD   \n",
       "4             56                      live            7/11/13        PLUS   \n",
       "\n",
       "   BilledAmount StartDate  EndDate BeginningState EndingState  TenureMonth  \\\n",
       "0         29.00   4/17/15  5/17/15        Renewal     Renewed           19   \n",
       "1         16.81   6/30/15   8/1/15   Reactivation     Renewed           64   \n",
       "2         29.00   4/28/15  5/28/15        Renewal     Renewed           33   \n",
       "3         29.00   5/11/15  6/11/15        Renewal     Renewed           18   \n",
       "4         49.00   8/23/15  9/23/15        Renewal     Renewed           26   \n",
       "\n",
       "           ...          PercOfflineView DaysSinceLastLogin  ViewMinPerDay  \\\n",
       "0          ...                      0.0               13.0      10.737255   \n",
       "1          ...                      0.0                3.0      10.529825   \n",
       "2          ...                      0.0               29.0       0.000000   \n",
       "3          ...                      0.0               11.0       1.068519   \n",
       "4          ...                      0.0                2.0       1.725926   \n",
       "\n",
       "   ViewMinPerActiveDay  ClipsPerDay ClipsPerActiveDay NCoursesPerDay  \\\n",
       "0            60.844444     6.941176         39.333333       0.176471   \n",
       "1            22.229630     3.368421          7.111111       0.157895   \n",
       "2             0.000000     0.000000          0.000000       0.000000   \n",
       "3            19.233333     0.277778          5.000000       0.055556   \n",
       "4            31.066667     0.333333          6.000000       0.055556   \n",
       "\n",
       "   CourseCompletionRate  MaxCourseCompletionRate          CoursePillar  \n",
       "0              0.212801                 0.419307  Software Development  \n",
       "1              0.190862                 0.404102  Software Development  \n",
       "2              0.000000                 0.000000                  None  \n",
       "3              0.116957                 0.116957  Software Development  \n",
       "4              0.139678                 0.139678                IT Pro  \n",
       "\n",
       "[5 rows x 31 columns]"
      ]
     },
     "execution_count": 4,
     "metadata": {},
     "output_type": "execute_result"
    }
   ],
   "source": [
    "df.head()"
   ]
  },
  {
   "cell_type": "code",
   "execution_count": 5,
   "metadata": {},
   "outputs": [
    {
     "name": "stdout",
     "output_type": "stream",
     "text": [
      "<class 'pandas.core.frame.DataFrame'>\n",
      "RangeIndex: 43142 entries, 0 to 43141\n",
      "Data columns (total 31 columns):\n",
      "SubscriberKey                43142 non-null int64\n",
      "EmailDomain                  43142 non-null object\n",
      "AccountCreatedDate           43142 non-null object\n",
      "ProductType                  43142 non-null object\n",
      "BilledAmount                 43142 non-null float64\n",
      "StartDate                    43142 non-null object\n",
      "EndDate                      43142 non-null object\n",
      "BeginningState               43142 non-null object\n",
      "EndingState                  43142 non-null object\n",
      "TenureMonth                  43142 non-null int64\n",
      "Channel                      34612 non-null object\n",
      "AutoRenewOn                  42959 non-null object\n",
      "NActiveMonths                43142 non-null int64\n",
      "NContinuousActiveMonths      43142 non-null int64\n",
      "MaxContinuousActiveMonths    43142 non-null int64\n",
      "CountryCode                  43113 non-null object\n",
      "Company                      19313 non-null object\n",
      "StartTrial                   43142 non-null int64\n",
      "NPrevChurns                  43142 non-null int64\n",
      "TurnAutoRenewOff             43142 non-null int64\n",
      "PercActiveDay                43142 non-null float64\n",
      "PercOfflineView              43142 non-null float64\n",
      "DaysSinceLastLogin           42509 non-null float64\n",
      "ViewMinPerDay                43142 non-null float64\n",
      "ViewMinPerActiveDay          43142 non-null float64\n",
      "ClipsPerDay                  43142 non-null float64\n",
      "ClipsPerActiveDay            43142 non-null float64\n",
      "NCoursesPerDay               43142 non-null float64\n",
      "CourseCompletionRate         43142 non-null float64\n",
      "MaxCourseCompletionRate      43142 non-null float64\n",
      "CoursePillar                 43142 non-null object\n",
      "dtypes: float64(11), int64(8), object(12)\n",
      "memory usage: 10.2+ MB\n"
     ]
    }
   ],
   "source": [
    "df.info()"
   ]
  },
  {
   "cell_type": "code",
   "execution_count": 6,
   "metadata": {},
   "outputs": [
    {
     "data": {
      "text/html": [
       "<div>\n",
       "<style scoped>\n",
       "    .dataframe tbody tr th:only-of-type {\n",
       "        vertical-align: middle;\n",
       "    }\n",
       "\n",
       "    .dataframe tbody tr th {\n",
       "        vertical-align: top;\n",
       "    }\n",
       "\n",
       "    .dataframe thead th {\n",
       "        text-align: right;\n",
       "    }\n",
       "</style>\n",
       "<table border=\"1\" class=\"dataframe\">\n",
       "  <thead>\n",
       "    <tr style=\"text-align: right;\">\n",
       "      <th></th>\n",
       "      <th>SubscriberKey</th>\n",
       "      <th>BilledAmount</th>\n",
       "      <th>TenureMonth</th>\n",
       "      <th>NActiveMonths</th>\n",
       "      <th>NContinuousActiveMonths</th>\n",
       "      <th>MaxContinuousActiveMonths</th>\n",
       "      <th>StartTrial</th>\n",
       "      <th>NPrevChurns</th>\n",
       "      <th>TurnAutoRenewOff</th>\n",
       "      <th>PercActiveDay</th>\n",
       "      <th>PercOfflineView</th>\n",
       "      <th>DaysSinceLastLogin</th>\n",
       "      <th>ViewMinPerDay</th>\n",
       "      <th>ViewMinPerActiveDay</th>\n",
       "      <th>ClipsPerDay</th>\n",
       "      <th>ClipsPerActiveDay</th>\n",
       "      <th>NCoursesPerDay</th>\n",
       "      <th>CourseCompletionRate</th>\n",
       "      <th>MaxCourseCompletionRate</th>\n",
       "    </tr>\n",
       "  </thead>\n",
       "  <tbody>\n",
       "    <tr>\n",
       "      <th>count</th>\n",
       "      <td>43142.000000</td>\n",
       "      <td>43142.000000</td>\n",
       "      <td>43142.000000</td>\n",
       "      <td>43142.000000</td>\n",
       "      <td>43142.000000</td>\n",
       "      <td>43142.000000</td>\n",
       "      <td>43142.000000</td>\n",
       "      <td>43142.000000</td>\n",
       "      <td>43142.000000</td>\n",
       "      <td>43142.000000</td>\n",
       "      <td>43142.000000</td>\n",
       "      <td>42509.000000</td>\n",
       "      <td>43142.000000</td>\n",
       "      <td>43142.000000</td>\n",
       "      <td>43142.000000</td>\n",
       "      <td>43142.000000</td>\n",
       "      <td>43142.000000</td>\n",
       "      <td>43142.000000</td>\n",
       "      <td>43142.000000</td>\n",
       "    </tr>\n",
       "    <tr>\n",
       "      <th>mean</th>\n",
       "      <td>248761.727018</td>\n",
       "      <td>36.191337</td>\n",
       "      <td>15.363265</td>\n",
       "      <td>14.407352</td>\n",
       "      <td>9.008507</td>\n",
       "      <td>13.567614</td>\n",
       "      <td>0.359047</td>\n",
       "      <td>0.427055</td>\n",
       "      <td>0.057902</td>\n",
       "      <td>0.138504</td>\n",
       "      <td>0.024404</td>\n",
       "      <td>39.743513</td>\n",
       "      <td>8.008660</td>\n",
       "      <td>25.600872</td>\n",
       "      <td>2.908999</td>\n",
       "      <td>9.188081</td>\n",
       "      <td>0.136116</td>\n",
       "      <td>0.148551</td>\n",
       "      <td>0.261261</td>\n",
       "    </tr>\n",
       "    <tr>\n",
       "      <th>std</th>\n",
       "      <td>155645.849586</td>\n",
       "      <td>10.670588</td>\n",
       "      <td>13.598060</td>\n",
       "      <td>106.047616</td>\n",
       "      <td>27.583068</td>\n",
       "      <td>107.770625</td>\n",
       "      <td>0.479727</td>\n",
       "      <td>0.783365</td>\n",
       "      <td>0.233560</td>\n",
       "      <td>0.198675</td>\n",
       "      <td>0.135592</td>\n",
       "      <td>71.127821</td>\n",
       "      <td>20.668215</td>\n",
       "      <td>39.352898</td>\n",
       "      <td>9.382579</td>\n",
       "      <td>18.001491</td>\n",
       "      <td>0.273355</td>\n",
       "      <td>0.213174</td>\n",
       "      <td>0.353063</td>\n",
       "    </tr>\n",
       "    <tr>\n",
       "      <th>min</th>\n",
       "      <td>5.000000</td>\n",
       "      <td>2.990000</td>\n",
       "      <td>1.000000</td>\n",
       "      <td>0.000000</td>\n",
       "      <td>1.000000</td>\n",
       "      <td>1.000000</td>\n",
       "      <td>0.000000</td>\n",
       "      <td>0.000000</td>\n",
       "      <td>0.000000</td>\n",
       "      <td>0.000000</td>\n",
       "      <td>0.000000</td>\n",
       "      <td>-8.000000</td>\n",
       "      <td>0.000000</td>\n",
       "      <td>0.000000</td>\n",
       "      <td>0.000000</td>\n",
       "      <td>0.000000</td>\n",
       "      <td>0.000000</td>\n",
       "      <td>0.000000</td>\n",
       "      <td>0.000000</td>\n",
       "    </tr>\n",
       "    <tr>\n",
       "      <th>25%</th>\n",
       "      <td>111502.500000</td>\n",
       "      <td>29.000000</td>\n",
       "      <td>4.000000</td>\n",
       "      <td>3.000000</td>\n",
       "      <td>2.000000</td>\n",
       "      <td>3.000000</td>\n",
       "      <td>0.000000</td>\n",
       "      <td>0.000000</td>\n",
       "      <td>0.000000</td>\n",
       "      <td>0.000000</td>\n",
       "      <td>0.000000</td>\n",
       "      <td>3.000000</td>\n",
       "      <td>0.000000</td>\n",
       "      <td>0.000000</td>\n",
       "      <td>0.000000</td>\n",
       "      <td>0.000000</td>\n",
       "      <td>0.000000</td>\n",
       "      <td>0.000000</td>\n",
       "      <td>0.000000</td>\n",
       "    </tr>\n",
       "    <tr>\n",
       "      <th>50%</th>\n",
       "      <td>232250.500000</td>\n",
       "      <td>29.000000</td>\n",
       "      <td>12.000000</td>\n",
       "      <td>8.000000</td>\n",
       "      <td>5.000000</td>\n",
       "      <td>7.000000</td>\n",
       "      <td>0.000000</td>\n",
       "      <td>0.000000</td>\n",
       "      <td>0.000000</td>\n",
       "      <td>0.055556</td>\n",
       "      <td>0.000000</td>\n",
       "      <td>14.000000</td>\n",
       "      <td>0.626852</td>\n",
       "      <td>8.569444</td>\n",
       "      <td>0.176471</td>\n",
       "      <td>2.666667</td>\n",
       "      <td>0.055556</td>\n",
       "      <td>0.040111</td>\n",
       "      <td>0.048791</td>\n",
       "    </tr>\n",
       "    <tr>\n",
       "      <th>75%</th>\n",
       "      <td>424287.000000</td>\n",
       "      <td>49.000000</td>\n",
       "      <td>24.000000</td>\n",
       "      <td>16.000000</td>\n",
       "      <td>13.000000</td>\n",
       "      <td>14.000000</td>\n",
       "      <td>1.000000</td>\n",
       "      <td>1.000000</td>\n",
       "      <td>0.000000</td>\n",
       "      <td>0.222222</td>\n",
       "      <td>0.000000</td>\n",
       "      <td>44.000000</td>\n",
       "      <td>8.172059</td>\n",
       "      <td>40.677780</td>\n",
       "      <td>2.687500</td>\n",
       "      <td>13.000000</td>\n",
       "      <td>0.166667</td>\n",
       "      <td>0.233476</td>\n",
       "      <td>0.448053</td>\n",
       "    </tr>\n",
       "    <tr>\n",
       "      <th>max</th>\n",
       "      <td>500558.000000</td>\n",
       "      <td>49.000000</td>\n",
       "      <td>85.000000</td>\n",
       "      <td>3094.000000</td>\n",
       "      <td>3151.000000</td>\n",
       "      <td>3151.000000</td>\n",
       "      <td>1.000000</td>\n",
       "      <td>9.000000</td>\n",
       "      <td>1.000000</td>\n",
       "      <td>1.000000</td>\n",
       "      <td>1.000000</td>\n",
       "      <td>854.000000</td>\n",
       "      <td>916.563200</td>\n",
       "      <td>967.483300</td>\n",
       "      <td>584.368400</td>\n",
       "      <td>705.000000</td>\n",
       "      <td>10.421050</td>\n",
       "      <td>1.008601</td>\n",
       "      <td>1.040264</td>\n",
       "    </tr>\n",
       "  </tbody>\n",
       "</table>\n",
       "</div>"
      ],
      "text/plain": [
       "       SubscriberKey  BilledAmount   TenureMonth  NActiveMonths  \\\n",
       "count   43142.000000  43142.000000  43142.000000   43142.000000   \n",
       "mean   248761.727018     36.191337     15.363265      14.407352   \n",
       "std    155645.849586     10.670588     13.598060     106.047616   \n",
       "min         5.000000      2.990000      1.000000       0.000000   \n",
       "25%    111502.500000     29.000000      4.000000       3.000000   \n",
       "50%    232250.500000     29.000000     12.000000       8.000000   \n",
       "75%    424287.000000     49.000000     24.000000      16.000000   \n",
       "max    500558.000000     49.000000     85.000000    3094.000000   \n",
       "\n",
       "       NContinuousActiveMonths  MaxContinuousActiveMonths    StartTrial  \\\n",
       "count             43142.000000               43142.000000  43142.000000   \n",
       "mean                  9.008507                  13.567614      0.359047   \n",
       "std                  27.583068                 107.770625      0.479727   \n",
       "min                   1.000000                   1.000000      0.000000   \n",
       "25%                   2.000000                   3.000000      0.000000   \n",
       "50%                   5.000000                   7.000000      0.000000   \n",
       "75%                  13.000000                  14.000000      1.000000   \n",
       "max                3151.000000                3151.000000      1.000000   \n",
       "\n",
       "        NPrevChurns  TurnAutoRenewOff  PercActiveDay  PercOfflineView  \\\n",
       "count  43142.000000      43142.000000   43142.000000     43142.000000   \n",
       "mean       0.427055          0.057902       0.138504         0.024404   \n",
       "std        0.783365          0.233560       0.198675         0.135592   \n",
       "min        0.000000          0.000000       0.000000         0.000000   \n",
       "25%        0.000000          0.000000       0.000000         0.000000   \n",
       "50%        0.000000          0.000000       0.055556         0.000000   \n",
       "75%        1.000000          0.000000       0.222222         0.000000   \n",
       "max        9.000000          1.000000       1.000000         1.000000   \n",
       "\n",
       "       DaysSinceLastLogin  ViewMinPerDay  ViewMinPerActiveDay   ClipsPerDay  \\\n",
       "count        42509.000000   43142.000000         43142.000000  43142.000000   \n",
       "mean            39.743513       8.008660            25.600872      2.908999   \n",
       "std             71.127821      20.668215            39.352898      9.382579   \n",
       "min             -8.000000       0.000000             0.000000      0.000000   \n",
       "25%              3.000000       0.000000             0.000000      0.000000   \n",
       "50%             14.000000       0.626852             8.569444      0.176471   \n",
       "75%             44.000000       8.172059            40.677780      2.687500   \n",
       "max            854.000000     916.563200           967.483300    584.368400   \n",
       "\n",
       "       ClipsPerActiveDay  NCoursesPerDay  CourseCompletionRate  \\\n",
       "count       43142.000000    43142.000000          43142.000000   \n",
       "mean            9.188081        0.136116              0.148551   \n",
       "std            18.001491        0.273355              0.213174   \n",
       "min             0.000000        0.000000              0.000000   \n",
       "25%             0.000000        0.000000              0.000000   \n",
       "50%             2.666667        0.055556              0.040111   \n",
       "75%            13.000000        0.166667              0.233476   \n",
       "max           705.000000       10.421050              1.008601   \n",
       "\n",
       "       MaxCourseCompletionRate  \n",
       "count             43142.000000  \n",
       "mean                  0.261261  \n",
       "std                   0.353063  \n",
       "min                   0.000000  \n",
       "25%                   0.000000  \n",
       "50%                   0.048791  \n",
       "75%                   0.448053  \n",
       "max                   1.040264  "
      ]
     },
     "execution_count": 6,
     "metadata": {},
     "output_type": "execute_result"
    }
   ],
   "source": [
    "df.describe()"
   ]
  },
  {
   "cell_type": "code",
   "execution_count": 7,
   "metadata": {},
   "outputs": [],
   "source": [
    "#A few things that called my attention:\n",
    "# -Minimum value for days since last login is -8, a negative number doesn't make sense for this field\n",
    "# -Maximum values for NActiveMonths, NContinuousActiveMonths and MaxContinuousActiveMonths are over 3,000, which is the \n",
    "#  equivalent of 250+ years.\n",
    "# -Similar situation for DaysSinceLastLogin, ViewMinPerDay, ViewMinPerActiveDay, ClipsPerDay, ClipsPerActiveDay and\n",
    "#  NCoursesPerDay\n",
    "# -CourseCompletionRate, MaxCourseCompletionRate have max values above 1, which shouldn't be since 100% should be the max "
   ]
  },
  {
   "cell_type": "markdown",
   "metadata": {},
   "source": [
    "## Handling Missing Data"
   ]
  },
  {
   "cell_type": "code",
   "execution_count": 8,
   "metadata": {},
   "outputs": [
    {
     "data": {
      "text/plain": [
       "SubscriberKey                 0.000000\n",
       "EmailDomain                   0.000000\n",
       "AccountCreatedDate            0.000000\n",
       "ProductType                   0.000000\n",
       "BilledAmount                  0.000000\n",
       "StartDate                     0.000000\n",
       "EndDate                       0.000000\n",
       "BeginningState                0.000000\n",
       "EndingState                   0.000000\n",
       "TenureMonth                   0.000000\n",
       "Channel                      19.771916\n",
       "AutoRenewOn                   0.424181\n",
       "NActiveMonths                 0.000000\n",
       "NContinuousActiveMonths       0.000000\n",
       "MaxContinuousActiveMonths     0.000000\n",
       "CountryCode                   0.067220\n",
       "Company                      55.233879\n",
       "StartTrial                    0.000000\n",
       "NPrevChurns                   0.000000\n",
       "TurnAutoRenewOff              0.000000\n",
       "PercActiveDay                 0.000000\n",
       "PercOfflineView               0.000000\n",
       "DaysSinceLastLogin            1.467248\n",
       "ViewMinPerDay                 0.000000\n",
       "ViewMinPerActiveDay           0.000000\n",
       "ClipsPerDay                   0.000000\n",
       "ClipsPerActiveDay             0.000000\n",
       "NCoursesPerDay                0.000000\n",
       "CourseCompletionRate          0.000000\n",
       "MaxCourseCompletionRate       0.000000\n",
       "CoursePillar                  0.000000\n",
       "dtype: float64"
      ]
     },
     "execution_count": 8,
     "metadata": {},
     "output_type": "execute_result"
    }
   ],
   "source": [
    "df.isnull().sum()/len(df)*100"
   ]
  },
  {
   "cell_type": "code",
   "execution_count": 9,
   "metadata": {},
   "outputs": [],
   "source": [
    "# 55% of the data for Company is missing and close to 20% for Channel. Will need to investigate further, to see if the \n",
    "# NaN's can be filled or the entire variable deleted. DaysSinceLastLogin, CountryCode and AutoRenewOn have a very small\n",
    "# percentage of missing values. The first could be imputted with its mean, while the other will need to be dropped since\n",
    "# they're categorical."
   ]
  },
  {
   "cell_type": "code",
   "execution_count": 10,
   "metadata": {},
   "outputs": [
    {
     "data": {
      "text/plain": [
       "gmail                  43.220446\n",
       "hotmail                 8.158127\n",
       "yahoo                   6.878174\n",
       "outlook                 2.891435\n",
       "live                    1.565320\n",
       "comcast                 0.784758\n",
       "msn                     0.646271\n",
       "me                      0.629485\n",
       "aol                     0.461622\n",
       "icloud                  0.356708\n",
       "us                      0.352512\n",
       "googlemail              0.335725\n",
       "verizon                 0.230811\n",
       "gmx                     0.214025\n",
       "mail                    0.205632\n",
       "att                     0.188846\n",
       "cox                     0.184649\n",
       "mac                     0.184649\n",
       "btinternet              0.176256\n",
       "sbcglobal               0.155273\n",
       "bellsouth               0.125897\n",
       "ymail                   0.113307\n",
       "microsoft               0.109111\n",
       "charter                 0.092324\n",
       "buchanan                0.088128\n",
       "Gmail                   0.083931\n",
       "skylinetechnologies     0.083931\n",
       "shaw                    0.075538\n",
       "beckman                 0.071342\n",
       "earthlink               0.071342\n",
       "                         ...    \n",
       "staff                   0.004197\n",
       "autoobjects             0.004197\n",
       "mcgintys                0.004197\n",
       "scottbaldridge          0.004197\n",
       "thecoyners              0.004197\n",
       "bridgingthegap          0.004197\n",
       "windwardconcepts        0.004197\n",
       "dwalsh                  0.004197\n",
       "connectfree             0.004197\n",
       "davesdomain             0.004197\n",
       "casema                  0.004197\n",
       "snmmi                   0.004197\n",
       "fauxfaux                0.004197\n",
       "eat24                   0.004197\n",
       "abc-insights            0.004197\n",
       "corethree               0.004197\n",
       "metroland               0.004197\n",
       "comcal                  0.004197\n",
       "cornerstone             0.004197\n",
       "greengopher             0.004197\n",
       "formsonfire             0.004197\n",
       "fundi                   0.004197\n",
       "ambrygen                0.004197\n",
       "invsqr                  0.004197\n",
       "lnm                     0.004197\n",
       "toscaltd                0.004197\n",
       "knocknoc                0.004197\n",
       "btconnect               0.004197\n",
       "emlogix                 0.004197\n",
       "oncor                   0.004197\n",
       "Name: EmailDomain, Length: 6169, dtype: float64"
      ]
     },
     "execution_count": 10,
     "metadata": {},
     "output_type": "execute_result"
    }
   ],
   "source": [
    "df[df['Company'].isnull()]['EmailDomain'].value_counts()/len(df[df['Company'].isnull()]['EmailDomain'])*100"
   ]
  },
  {
   "cell_type": "code",
   "execution_count": 11,
   "metadata": {},
   "outputs": [],
   "source": [
    "# The series aboves shows the email domains (which isn't missing data) for the rows that don't have a value for company. It shows\n",
    "# how most of the email addresses are of a personal nature, such as gmail, hotmail, yahoo, etc. I consider them both to be\n",
    "# related since I'd think if a company pays for its employees to have access to the Pluralsight platform, they'd probably\n",
    "# use their corporate email, so the company could manage its users.\n",
    "\n",
    "# Next I'll find the email domains for the entire dataset:"
   ]
  },
  {
   "cell_type": "code",
   "execution_count": 12,
   "metadata": {},
   "outputs": [
    {
     "data": {
      "text/plain": [
       "gmail                         39.159056\n",
       "hotmail                        8.140559\n",
       "yahoo                          6.552779\n",
       "outlook                        2.431505\n",
       "live                           1.606323\n",
       "comcast                        0.751008\n",
       "msn                            0.660609\n",
       "me                             0.556302\n",
       "aol                            0.403319\n",
       "us                             0.375504\n",
       "googlemail                     0.285105\n",
       "icloud                         0.275833\n",
       "verizon                        0.236429\n",
       "microsoft                      0.213249\n",
       "gmx                            0.194706\n",
       "cox                            0.185434\n",
       "mail                           0.164573\n",
       "mac                            0.162255\n",
       "att                            0.148347\n",
       "btinternet                     0.146029\n",
       "sbcglobal                      0.134440\n",
       "bellsouth                      0.113578\n",
       "ymail                          0.104307\n",
       "skylinetechnologies            0.097353\n",
       "charter                        0.092717\n",
       "shaw                           0.078810\n",
       "earthlink                      0.076492\n",
       "Gmail                          0.071856\n",
       "buchanan                       0.067220\n",
       "beckman                        0.060266\n",
       "                                ...    \n",
       "indsci                         0.002318\n",
       "networkfish                    0.002318\n",
       "d7x                            0.002318\n",
       "andrewdrummond                 0.002318\n",
       "sirsql                         0.002318\n",
       "verheggensoftwaresolutions     0.002318\n",
       "cirrity                        0.002318\n",
       "riko                           0.002318\n",
       "gabrielroeder                  0.002318\n",
       "vnualt                         0.002318\n",
       "nodonnell                      0.002318\n",
       "aperio                         0.002318\n",
       "staby                          0.002318\n",
       "ARCASA                         0.002318\n",
       "itprosusa                      0.002318\n",
       "smartcontrol                   0.002318\n",
       "tidyui                         0.002318\n",
       "sensedia                       0.002318\n",
       "swi-its                        0.002318\n",
       "cleamondweb                    0.002318\n",
       "i3next                         0.002318\n",
       "stanzacorp                     0.002318\n",
       "samadhan                       0.002318\n",
       "mycit                          0.002318\n",
       "nosqlcode                      0.002318\n",
       "magicstone                     0.002318\n",
       "d7tech                         0.002318\n",
       "drf                            0.002318\n",
       "airpost                        0.002318\n",
       "vendingtrucks                  0.002318\n",
       "Name: EmailDomain, Length: 12476, dtype: float64"
      ]
     },
     "execution_count": 12,
     "metadata": {},
     "output_type": "execute_result"
    }
   ],
   "source": [
    "df['EmailDomain'].value_counts()/len(df['EmailDomain'])*100"
   ]
  },
  {
   "cell_type": "code",
   "execution_count": 13,
   "metadata": {},
   "outputs": [],
   "source": [
    "# Similar situation, most of the email domains are, based on my assumption, personal. Since there are 12,476 unique email\n",
    "# domains, this variable would overcomplicate the model with the addition of all those dummy variables. So in order to \n",
    "# incorporate the company and email domain into the model, given my assumption that corporate users would use their company\n",
    "# email to use the platform, I will assign the tag personal or corporate based on the most well known personal email \n",
    "# domains, in my opinion. Therefore, I can get rid of the Company variable because of its association with email. "
   ]
  },
  {
   "cell_type": "code",
   "execution_count": 14,
   "metadata": {},
   "outputs": [],
   "source": [
    "# Create another dataframe so I have access to the original, just in case\n",
    "df_clean = df"
   ]
  },
  {
   "cell_type": "code",
   "execution_count": 15,
   "metadata": {},
   "outputs": [],
   "source": [
    "personal_email_domains = ['gmail','hotmail','yahoo','outlook','msn','me','aol','icloud','mac','earthlink']"
   ]
  },
  {
   "cell_type": "code",
   "execution_count": 16,
   "metadata": {},
   "outputs": [],
   "source": [
    "def account_type(x):\n",
    "    if x.lower() in personal_email_domains:\n",
    "        return 'Personal'\n",
    "    else:\n",
    "        return 'Corporate'"
   ]
  },
  {
   "cell_type": "code",
   "execution_count": 17,
   "metadata": {},
   "outputs": [],
   "source": [
    "df_clean['AccountType'] = df_clean['EmailDomain'].apply(account_type)"
   ]
  },
  {
   "cell_type": "code",
   "execution_count": 18,
   "metadata": {},
   "outputs": [],
   "source": [
    "df_clean.drop(['EmailDomain','Company'], axis=1, inplace=True)"
   ]
  },
  {
   "cell_type": "code",
   "execution_count": 19,
   "metadata": {},
   "outputs": [
    {
     "data": {
      "text/plain": [
       "Direct            10698\n",
       "Organic Search    10256\n",
       "Referral           5333\n",
       "Email              3214\n",
       "Paid Search        2827\n",
       "(Other)            1725\n",
       "Social              359\n",
       "Display             117\n",
       "Affiliates           83\n",
       "Name: Channel, dtype: int64"
      ]
     },
     "execution_count": 19,
     "metadata": {},
     "output_type": "execute_result"
    }
   ],
   "source": [
    "# Regarding the Channel variable, these are the values in the data\n",
    "df_clean['Channel'].value_counts()"
   ]
  },
  {
   "cell_type": "code",
   "execution_count": 20,
   "metadata": {},
   "outputs": [],
   "source": [
    "# I'm not sure how to impute the missing 20% of missing values for this variable, since in my opinion customers could come \n",
    "# from any source. So for the time being I'll impute the missing values with an 'Unknown' tag in order to keep the rows.\n",
    "# This addition will reduce the information gain from this variable, but hopefully the gain from the rows and its variables\n",
    "# will more than offset."
   ]
  },
  {
   "cell_type": "code",
   "execution_count": 21,
   "metadata": {},
   "outputs": [],
   "source": [
    "df_clean['Channel'].fillna('Unknown', inplace=True)"
   ]
  },
  {
   "cell_type": "code",
   "execution_count": 22,
   "metadata": {},
   "outputs": [],
   "source": [
    "# When it comes to the 1.47% missing data for DaysSinceLastLogin, I will imput with its mean, but only after getting rid\n",
    "# of its outliers, since there are both too large and small values. "
   ]
  },
  {
   "cell_type": "code",
   "execution_count": 23,
   "metadata": {},
   "outputs": [],
   "source": [
    "# Drop rows with missing values in CountryCode and AutoRenewOn\n",
    "df_clean.dropna(subset=['CountryCode','AutoRenewOn'], inplace=True)"
   ]
  },
  {
   "cell_type": "code",
   "execution_count": 24,
   "metadata": {},
   "outputs": [],
   "source": [
    "# SubscriberKey can be dropped as well since its just a number assigned to a client and doesn't affect the output\n",
    "df_clean.drop('SubscriberKey', axis=1, inplace=True)"
   ]
  },
  {
   "cell_type": "code",
   "execution_count": 25,
   "metadata": {},
   "outputs": [],
   "source": [
    "# AccountCreatedDate, StartDate and EndDate are date variables. First step is to convert them into Datetime values, \n",
    "# instead of strings. I'll convert AccountCreatedDate into a range by subtracting its values from today's date to get the \n",
    "# days each account has been opened for. Regarding start and end date, I'll subtract end from start to combine them into\n",
    "# one variable describing how long the current month subscription is"
   ]
  },
  {
   "cell_type": "code",
   "execution_count": 26,
   "metadata": {},
   "outputs": [],
   "source": [
    "#Convert to datetime\n",
    "df_clean['AccountCreatedDate'] = pd.to_datetime(df_clean['AccountCreatedDate'], errors='coerce')\n",
    "df_clean['StartDate'] = pd.to_datetime(df_clean['StartDate'], errors='coerce')\n",
    "df_clean['EndDate'] = pd.to_datetime(df_clean['EndDate'], errors='coerce')"
   ]
  },
  {
   "cell_type": "code",
   "execution_count": 27,
   "metadata": {},
   "outputs": [],
   "source": [
    "today = pd.to_datetime('today')"
   ]
  },
  {
   "cell_type": "code",
   "execution_count": 28,
   "metadata": {},
   "outputs": [],
   "source": [
    "# Amount of days since account was created as of today\n",
    "df_clean['AccountCreatedDate'] = ((today - df_clean['AccountCreatedDate'])/ np.timedelta64(1, 'D')).astype(int)"
   ]
  },
  {
   "cell_type": "code",
   "execution_count": 29,
   "metadata": {},
   "outputs": [],
   "source": [
    "# Add variable for the amount of days between start and end of the current monthly subscription\n",
    "df_clean['Subscription_Days'] = ((df_clean['EndDate'] - df_clean['StartDate'])/ np.timedelta64(1, 'D')).astype(int)"
   ]
  },
  {
   "cell_type": "code",
   "execution_count": 30,
   "metadata": {},
   "outputs": [],
   "source": [
    "# Drop start and end dates\n",
    "df_clean.drop(['StartDate','EndDate'], axis=1, inplace=True)"
   ]
  },
  {
   "cell_type": "markdown",
   "metadata": {},
   "source": [
    "## Feature Engineering\n",
    "### Handling Outliers"
   ]
  },
  {
   "cell_type": "code",
   "execution_count": 31,
   "metadata": {},
   "outputs": [
    {
     "data": {
      "text/html": [
       "<div>\n",
       "<style scoped>\n",
       "    .dataframe tbody tr th:only-of-type {\n",
       "        vertical-align: middle;\n",
       "    }\n",
       "\n",
       "    .dataframe tbody tr th {\n",
       "        vertical-align: top;\n",
       "    }\n",
       "\n",
       "    .dataframe thead th {\n",
       "        text-align: right;\n",
       "    }\n",
       "</style>\n",
       "<table border=\"1\" class=\"dataframe\">\n",
       "  <thead>\n",
       "    <tr style=\"text-align: right;\">\n",
       "      <th></th>\n",
       "      <th>AccountCreatedDate</th>\n",
       "      <th>BilledAmount</th>\n",
       "      <th>TenureMonth</th>\n",
       "      <th>NActiveMonths</th>\n",
       "      <th>NContinuousActiveMonths</th>\n",
       "      <th>MaxContinuousActiveMonths</th>\n",
       "      <th>StartTrial</th>\n",
       "      <th>NPrevChurns</th>\n",
       "      <th>TurnAutoRenewOff</th>\n",
       "      <th>PercActiveDay</th>\n",
       "      <th>PercOfflineView</th>\n",
       "      <th>DaysSinceLastLogin</th>\n",
       "      <th>ViewMinPerDay</th>\n",
       "      <th>ViewMinPerActiveDay</th>\n",
       "      <th>ClipsPerDay</th>\n",
       "      <th>ClipsPerActiveDay</th>\n",
       "      <th>NCoursesPerDay</th>\n",
       "      <th>CourseCompletionRate</th>\n",
       "      <th>MaxCourseCompletionRate</th>\n",
       "      <th>Subscription_Days</th>\n",
       "    </tr>\n",
       "  </thead>\n",
       "  <tbody>\n",
       "    <tr>\n",
       "      <th>count</th>\n",
       "      <td>42930.000000</td>\n",
       "      <td>42930.000000</td>\n",
       "      <td>42930.000000</td>\n",
       "      <td>42930.000000</td>\n",
       "      <td>42930.000000</td>\n",
       "      <td>42930.000000</td>\n",
       "      <td>42930.000000</td>\n",
       "      <td>42930.000000</td>\n",
       "      <td>42930.000000</td>\n",
       "      <td>42930.000000</td>\n",
       "      <td>42930.000000</td>\n",
       "      <td>42316.000000</td>\n",
       "      <td>42930.000000</td>\n",
       "      <td>42930.000000</td>\n",
       "      <td>42930.000000</td>\n",
       "      <td>42930.000000</td>\n",
       "      <td>42930.000000</td>\n",
       "      <td>42930.000000</td>\n",
       "      <td>42930.000000</td>\n",
       "      <td>42930.000000</td>\n",
       "    </tr>\n",
       "    <tr>\n",
       "      <th>mean</th>\n",
       "      <td>2092.810203</td>\n",
       "      <td>36.183035</td>\n",
       "      <td>15.406895</td>\n",
       "      <td>14.455719</td>\n",
       "      <td>9.033170</td>\n",
       "      <td>13.612089</td>\n",
       "      <td>0.357652</td>\n",
       "      <td>0.427836</td>\n",
       "      <td>0.058071</td>\n",
       "      <td>0.138859</td>\n",
       "      <td>0.024494</td>\n",
       "      <td>39.780107</td>\n",
       "      <td>8.024780</td>\n",
       "      <td>25.629848</td>\n",
       "      <td>2.912486</td>\n",
       "      <td>9.191489</td>\n",
       "      <td>0.136280</td>\n",
       "      <td>0.148781</td>\n",
       "      <td>0.261782</td>\n",
       "      <td>30.716166</td>\n",
       "    </tr>\n",
       "    <tr>\n",
       "      <th>std</th>\n",
       "      <td>415.259690</td>\n",
       "      <td>10.672621</td>\n",
       "      <td>13.599459</td>\n",
       "      <td>106.305864</td>\n",
       "      <td>27.645926</td>\n",
       "      <td>108.033608</td>\n",
       "      <td>0.479315</td>\n",
       "      <td>0.783738</td>\n",
       "      <td>0.233881</td>\n",
       "      <td>0.198886</td>\n",
       "      <td>0.135844</td>\n",
       "      <td>71.238445</td>\n",
       "      <td>20.674496</td>\n",
       "      <td>39.250071</td>\n",
       "      <td>9.374779</td>\n",
       "      <td>17.917451</td>\n",
       "      <td>0.272667</td>\n",
       "      <td>0.213158</td>\n",
       "      <td>0.353220</td>\n",
       "      <td>1.774667</td>\n",
       "    </tr>\n",
       "    <tr>\n",
       "      <th>min</th>\n",
       "      <td>1543.000000</td>\n",
       "      <td>2.990000</td>\n",
       "      <td>1.000000</td>\n",
       "      <td>1.000000</td>\n",
       "      <td>1.000000</td>\n",
       "      <td>1.000000</td>\n",
       "      <td>0.000000</td>\n",
       "      <td>0.000000</td>\n",
       "      <td>0.000000</td>\n",
       "      <td>0.000000</td>\n",
       "      <td>0.000000</td>\n",
       "      <td>-8.000000</td>\n",
       "      <td>0.000000</td>\n",
       "      <td>0.000000</td>\n",
       "      <td>0.000000</td>\n",
       "      <td>0.000000</td>\n",
       "      <td>0.000000</td>\n",
       "      <td>0.000000</td>\n",
       "      <td>0.000000</td>\n",
       "      <td>4.000000</td>\n",
       "    </tr>\n",
       "    <tr>\n",
       "      <th>25%</th>\n",
       "      <td>1750.000000</td>\n",
       "      <td>29.000000</td>\n",
       "      <td>4.000000</td>\n",
       "      <td>3.000000</td>\n",
       "      <td>2.000000</td>\n",
       "      <td>3.000000</td>\n",
       "      <td>0.000000</td>\n",
       "      <td>0.000000</td>\n",
       "      <td>0.000000</td>\n",
       "      <td>0.000000</td>\n",
       "      <td>0.000000</td>\n",
       "      <td>3.000000</td>\n",
       "      <td>0.000000</td>\n",
       "      <td>0.000000</td>\n",
       "      <td>0.000000</td>\n",
       "      <td>0.000000</td>\n",
       "      <td>0.000000</td>\n",
       "      <td>0.000000</td>\n",
       "      <td>0.000000</td>\n",
       "      <td>30.000000</td>\n",
       "    </tr>\n",
       "    <tr>\n",
       "      <th>50%</th>\n",
       "      <td>1999.500000</td>\n",
       "      <td>29.000000</td>\n",
       "      <td>12.000000</td>\n",
       "      <td>9.000000</td>\n",
       "      <td>6.000000</td>\n",
       "      <td>7.000000</td>\n",
       "      <td>0.000000</td>\n",
       "      <td>0.000000</td>\n",
       "      <td>0.000000</td>\n",
       "      <td>0.055556</td>\n",
       "      <td>0.000000</td>\n",
       "      <td>14.000000</td>\n",
       "      <td>0.639815</td>\n",
       "      <td>8.701389</td>\n",
       "      <td>0.200000</td>\n",
       "      <td>2.800000</td>\n",
       "      <td>0.055556</td>\n",
       "      <td>0.040907</td>\n",
       "      <td>0.049694</td>\n",
       "      <td>31.000000</td>\n",
       "    </tr>\n",
       "    <tr>\n",
       "      <th>75%</th>\n",
       "      <td>2350.000000</td>\n",
       "      <td>49.000000</td>\n",
       "      <td>24.000000</td>\n",
       "      <td>16.000000</td>\n",
       "      <td>13.000000</td>\n",
       "      <td>14.000000</td>\n",
       "      <td>1.000000</td>\n",
       "      <td>1.000000</td>\n",
       "      <td>0.000000</td>\n",
       "      <td>0.222222</td>\n",
       "      <td>0.000000</td>\n",
       "      <td>44.000000</td>\n",
       "      <td>8.200387</td>\n",
       "      <td>40.720834</td>\n",
       "      <td>2.705882</td>\n",
       "      <td>13.125000</td>\n",
       "      <td>0.166667</td>\n",
       "      <td>0.233901</td>\n",
       "      <td>0.450211</td>\n",
       "      <td>31.000000</td>\n",
       "    </tr>\n",
       "    <tr>\n",
       "      <th>max</th>\n",
       "      <td>4157.000000</td>\n",
       "      <td>49.000000</td>\n",
       "      <td>85.000000</td>\n",
       "      <td>3094.000000</td>\n",
       "      <td>3151.000000</td>\n",
       "      <td>3151.000000</td>\n",
       "      <td>1.000000</td>\n",
       "      <td>9.000000</td>\n",
       "      <td>1.000000</td>\n",
       "      <td>1.000000</td>\n",
       "      <td>1.000000</td>\n",
       "      <td>854.000000</td>\n",
       "      <td>916.563200</td>\n",
       "      <td>967.483300</td>\n",
       "      <td>584.368400</td>\n",
       "      <td>705.000000</td>\n",
       "      <td>10.421050</td>\n",
       "      <td>1.008601</td>\n",
       "      <td>1.040264</td>\n",
       "      <td>123.000000</td>\n",
       "    </tr>\n",
       "  </tbody>\n",
       "</table>\n",
       "</div>"
      ],
      "text/plain": [
       "       AccountCreatedDate  BilledAmount   TenureMonth  NActiveMonths  \\\n",
       "count        42930.000000  42930.000000  42930.000000   42930.000000   \n",
       "mean          2092.810203     36.183035     15.406895      14.455719   \n",
       "std            415.259690     10.672621     13.599459     106.305864   \n",
       "min           1543.000000      2.990000      1.000000       1.000000   \n",
       "25%           1750.000000     29.000000      4.000000       3.000000   \n",
       "50%           1999.500000     29.000000     12.000000       9.000000   \n",
       "75%           2350.000000     49.000000     24.000000      16.000000   \n",
       "max           4157.000000     49.000000     85.000000    3094.000000   \n",
       "\n",
       "       NContinuousActiveMonths  MaxContinuousActiveMonths    StartTrial  \\\n",
       "count             42930.000000               42930.000000  42930.000000   \n",
       "mean                  9.033170                  13.612089      0.357652   \n",
       "std                  27.645926                 108.033608      0.479315   \n",
       "min                   1.000000                   1.000000      0.000000   \n",
       "25%                   2.000000                   3.000000      0.000000   \n",
       "50%                   6.000000                   7.000000      0.000000   \n",
       "75%                  13.000000                  14.000000      1.000000   \n",
       "max                3151.000000                3151.000000      1.000000   \n",
       "\n",
       "        NPrevChurns  TurnAutoRenewOff  PercActiveDay  PercOfflineView  \\\n",
       "count  42930.000000      42930.000000   42930.000000     42930.000000   \n",
       "mean       0.427836          0.058071       0.138859         0.024494   \n",
       "std        0.783738          0.233881       0.198886         0.135844   \n",
       "min        0.000000          0.000000       0.000000         0.000000   \n",
       "25%        0.000000          0.000000       0.000000         0.000000   \n",
       "50%        0.000000          0.000000       0.055556         0.000000   \n",
       "75%        1.000000          0.000000       0.222222         0.000000   \n",
       "max        9.000000          1.000000       1.000000         1.000000   \n",
       "\n",
       "       DaysSinceLastLogin  ViewMinPerDay  ViewMinPerActiveDay   ClipsPerDay  \\\n",
       "count        42316.000000   42930.000000         42930.000000  42930.000000   \n",
       "mean            39.780107       8.024780            25.629848      2.912486   \n",
       "std             71.238445      20.674496            39.250071      9.374779   \n",
       "min             -8.000000       0.000000             0.000000      0.000000   \n",
       "25%              3.000000       0.000000             0.000000      0.000000   \n",
       "50%             14.000000       0.639815             8.701389      0.200000   \n",
       "75%             44.000000       8.200387            40.720834      2.705882   \n",
       "max            854.000000     916.563200           967.483300    584.368400   \n",
       "\n",
       "       ClipsPerActiveDay  NCoursesPerDay  CourseCompletionRate  \\\n",
       "count       42930.000000    42930.000000          42930.000000   \n",
       "mean            9.191489        0.136280              0.148781   \n",
       "std            17.917451        0.272667              0.213158   \n",
       "min             0.000000        0.000000              0.000000   \n",
       "25%             0.000000        0.000000              0.000000   \n",
       "50%             2.800000        0.055556              0.040907   \n",
       "75%            13.125000        0.166667              0.233901   \n",
       "max           705.000000       10.421050              1.008601   \n",
       "\n",
       "       MaxCourseCompletionRate  Subscription_Days  \n",
       "count             42930.000000       42930.000000  \n",
       "mean                  0.261782          30.716166  \n",
       "std                   0.353220           1.774667  \n",
       "min                   0.000000           4.000000  \n",
       "25%                   0.000000          30.000000  \n",
       "50%                   0.049694          31.000000  \n",
       "75%                   0.450211          31.000000  \n",
       "max                   1.040264         123.000000  "
      ]
     },
     "execution_count": 31,
     "metadata": {},
     "output_type": "execute_result"
    }
   ],
   "source": [
    "df_clean.describe()"
   ]
  },
  {
   "cell_type": "code",
   "execution_count": 32,
   "metadata": {},
   "outputs": [],
   "source": [
    "# Set negative values to 0\n",
    "df_clean['DaysSinceLastLogin'] = df_clean['DaysSinceLastLogin'].apply(lambda x:0 if x < 0 else x)"
   ]
  },
  {
   "cell_type": "code",
   "execution_count": 33,
   "metadata": {},
   "outputs": [],
   "source": [
    "# Fill missing values with this series mean\n",
    "df_clean['DaysSinceLastLogin'] = df_clean['DaysSinceLastLogin'].fillna(round(df_clean['DaysSinceLastLogin'].mean()))"
   ]
  },
  {
   "cell_type": "code",
   "execution_count": 34,
   "metadata": {},
   "outputs": [],
   "source": [
    "# CourseCompletionRate and MaxCourseCompletionRate have max values above 1, which doesnt make sense for what the variable\n",
    "# is describing, the rate can't be more than 100%. So I'll apply a function to reduce values above 1 to 1.\n",
    "df_clean['CourseCompletionRate'] = df_clean['CourseCompletionRate'].apply(lambda x:1 if x > 0 else x)\n",
    "df_clean['MaxCourseCompletionRate'] = df_clean['MaxCourseCompletionRate'].apply(lambda x:1 if x > 0 else x)"
   ]
  },
  {
   "cell_type": "markdown",
   "metadata": {},
   "source": [
    "#### Distribution Visualization"
   ]
  },
  {
   "cell_type": "code",
   "execution_count": 35,
   "metadata": {},
   "outputs": [],
   "source": [
    "numerical_variables = ['AccountCreatedDate','BilledAmount','TenureMonth','NActiveMonths','NContinuousActiveMonths',\n",
    "                       'MaxContinuousActiveMonths','StartTrial','NPrevChurns','TurnAutoRenewOff','PercActiveDay',\n",
    "                       'PercOfflineView','DaysSinceLastLogin','ViewMinPerDay','ViewMinPerActiveDay','ClipsPerDay',\n",
    "                       'ClipsPerActiveDay','NCoursesPerDay','CourseCompletionRate','MaxCourseCompletionRate',\n",
    "                       'Subscription_Days']"
   ]
  },
  {
   "cell_type": "code",
   "execution_count": 36,
   "metadata": {},
   "outputs": [
    {
     "data": {
      "text/plain": [
       "<matplotlib.axes._subplots.AxesSubplot at 0x7f2468577ba8>"
      ]
     },
     "execution_count": 36,
     "metadata": {},
     "output_type": "execute_result"
    },
    {
     "data": {
      "image/png": "[encoded data removed]",
      "text/plain": [
       "<Figure size 1152x1152 with 20 Axes>"
      ]
     },
     "metadata": {
      "needs_background": "light"
     },
     "output_type": "display_data"
    }
   ],
   "source": [
    "f, axes = plt.subplots(5, 4, figsize=(16, 16), sharex=True)\n",
    "sns.boxplot( df_clean[numerical_variables[0]] , ax=axes[0, 0], orient='v')\n",
    "sns.boxplot( df_clean[numerical_variables[1]] , ax=axes[0, 1], orient='v')\n",
    "sns.boxplot( df_clean[numerical_variables[2]] , ax=axes[0, 2], orient='v')\n",
    "sns.boxplot( df_clean[numerical_variables[3]] , ax=axes[0, 3], orient='v')\n",
    "sns.boxplot( df_clean[numerical_variables[4]] , ax=axes[1, 0], orient='v')\n",
    "sns.boxplot( df_clean[numerical_variables[5]] , ax=axes[1, 1], orient='v')\n",
    "sns.boxplot( df_clean[numerical_variables[6]] , ax=axes[1, 2], orient='v')\n",
    "sns.boxplot( df_clean[numerical_variables[7]] , ax=axes[1, 3], orient='v')\n",
    "sns.boxplot( df_clean[numerical_variables[8]] , ax=axes[2, 0], orient='v')\n",
    "sns.boxplot( df_clean[numerical_variables[9]] , ax=axes[2, 1], orient='v')\n",
    "sns.boxplot( df_clean[numerical_variables[10]] , ax=axes[2, 2], orient='v')\n",
    "sns.boxplot( df_clean[numerical_variables[11]] , ax=axes[2, 3], orient='v')\n",
    "sns.boxplot( df_clean[numerical_variables[12]] , ax=axes[3, 0], orient='v')\n",
    "sns.boxplot( df_clean[numerical_variables[13]] , ax=axes[3, 1], orient='v')\n",
    "sns.boxplot( df_clean[numerical_variables[14]] , ax=axes[3, 2], orient='v')\n",
    "sns.boxplot( df_clean[numerical_variables[15]] , ax=axes[3, 3], orient='v')\n",
    "sns.boxplot( df_clean[numerical_variables[16]] , ax=axes[4, 0], orient='v')\n",
    "sns.boxplot( df_clean[numerical_variables[17]] , ax=axes[4, 1], orient='v')\n",
    "sns.boxplot( df_clean[numerical_variables[18]] , ax=axes[4, 2], orient='v')\n",
    "sns.boxplot( df_clean[numerical_variables[19]] , ax=axes[4, 3], orient='v')"
   ]
  },
  {
   "cell_type": "code",
   "execution_count": 37,
   "metadata": {},
   "outputs": [],
   "source": [
    "# The box plots show how some of the variables in the data set have extreme outliers. The clearest ones are \n",
    "# NActiveMonths, NContinuousActiveMonths, MaxContinuousActiveMonths which have values that represent accounts older than\n",
    "# 250 years, which clearly doesn't make sense. Others aren't as clear, since I don't have the domain knowledge of the inner\n",
    "# workings of the company. For example, NCoursesPerDay has a quite a few outliers completing over 2 courses per day. This\n",
    "# could be a true outlier or perhaps there are mini courses that can be completed in a short amount of time. "
   ]
  },
  {
   "cell_type": "code",
   "execution_count": 38,
   "metadata": {},
   "outputs": [],
   "source": [
    "# I will proceed to remove these outliers using IQRx1.5 as a limit on for these extreme values. I'll only do this for \n",
    "# outliers that I consider clearly off and extreme."
   ]
  },
  {
   "cell_type": "code",
   "execution_count": 39,
   "metadata": {},
   "outputs": [],
   "source": [
    "extreme_variables_outliers = ['AccountCreatedDate','TenureMonth','NActiveMonths','NContinuousActiveMonths',\n",
    "                              'MaxContinuousActiveMonths','TurnAutoRenewOff','DaysSinceLastLogin','ViewMinPerDay',\n",
    "                              'ViewMinPerActiveDay','ClipsPerDay','ClipsPerActiveDay','Subscription_Days']"
   ]
  },
  {
   "cell_type": "code",
   "execution_count": 40,
   "metadata": {},
   "outputs": [],
   "source": [
    "for variable in extreme_variables_outliers:\n",
    "    q75, q25 = np.percentile(df_clean[variable], [75 ,25])\n",
    "    iqr = q75 - q25\n",
    "    min_value = q25 - (iqr*1.5)\n",
    "    max_value = q75 + (iqr*1.5)\n",
    "    df_clean[variable] = df_clean[variable].apply(lambda x:max_value if x > max_value else x)\n",
    "    df_clean[variable] = df_clean[variable].apply(lambda x:min_value if x < min_value else x)"
   ]
  },
  {
   "cell_type": "code",
   "execution_count": 41,
   "metadata": {},
   "outputs": [
    {
     "data": {
      "text/plain": [
       "<matplotlib.axes._subplots.AxesSubplot at 0x7f244e6927f0>"
      ]
     },
     "execution_count": 41,
     "metadata": {},
     "output_type": "execute_result"
    },
    {
     "data": {
      "image/png": "[encoded data removed]",
      "text/plain": [
       "<Figure size 1152x1152 with 20 Axes>"
      ]
     },
     "metadata": {
      "needs_background": "light"
     },
     "output_type": "display_data"
    }
   ],
   "source": [
    "f, axes = plt.subplots(5, 4, figsize=(16, 16), sharex=True)\n",
    "sns.boxplot( df[numerical_variables[0]] , ax=axes[0, 0], orient='v')\n",
    "sns.boxplot( df[numerical_variables[1]] , ax=axes[0, 1], orient='v')\n",
    "sns.boxplot( df[numerical_variables[2]] , ax=axes[0, 2], orient='v')\n",
    "sns.boxplot( df[numerical_variables[3]] , ax=axes[0, 3], orient='v')\n",
    "sns.boxplot( df[numerical_variables[4]] , ax=axes[1, 0], orient='v')\n",
    "sns.boxplot( df[numerical_variables[5]] , ax=axes[1, 1], orient='v')\n",
    "sns.boxplot( df[numerical_variables[6]] , ax=axes[1, 2], orient='v')\n",
    "sns.boxplot( df[numerical_variables[7]] , ax=axes[1, 3], orient='v')\n",
    "sns.boxplot( df[numerical_variables[8]] , ax=axes[2, 0], orient='v')\n",
    "sns.boxplot( df[numerical_variables[9]] , ax=axes[2, 1], orient='v')\n",
    "sns.boxplot( df[numerical_variables[10]] , ax=axes[2, 2], orient='v')\n",
    "sns.boxplot( df[numerical_variables[11]] , ax=axes[2, 3], orient='v')\n",
    "sns.boxplot( df[numerical_variables[12]] , ax=axes[3, 0], orient='v')\n",
    "sns.boxplot( df[numerical_variables[13]] , ax=axes[3, 1], orient='v')\n",
    "sns.boxplot( df[numerical_variables[14]] , ax=axes[3, 2], orient='v')\n",
    "sns.boxplot( df[numerical_variables[15]] , ax=axes[3, 3], orient='v')\n",
    "sns.boxplot( df[numerical_variables[16]] , ax=axes[4, 0], orient='v')\n",
    "sns.boxplot( df[numerical_variables[17]] , ax=axes[4, 1], orient='v')\n",
    "sns.boxplot( df[numerical_variables[18]] , ax=axes[4, 2], orient='v')\n",
    "sns.boxplot( df[numerical_variables[19]] , ax=axes[4, 3], orient='v')"
   ]
  },
  {
   "cell_type": "code",
   "execution_count": 42,
   "metadata": {},
   "outputs": [],
   "source": [
    "# Now, all the variables that, in my opinon, had clear clear issues with outliers have been corrected."
   ]
  },
  {
   "cell_type": "code",
   "execution_count": 43,
   "metadata": {},
   "outputs": [
    {
     "data": {
      "text/plain": [
       "155"
      ]
     },
     "execution_count": 43,
     "metadata": {},
     "output_type": "execute_result"
    }
   ],
   "source": [
    "# There are 155 unique values in CountryCode, which would make the dataframe too wide and hurt performance of the model.\n",
    "len(df_clean['CountryCode'].unique())"
   ]
  },
  {
   "cell_type": "code",
   "execution_count": 44,
   "metadata": {},
   "outputs": [
    {
     "data": {
      "text/plain": [
       "US    24214\n",
       "GB     4439\n",
       "CA     1689\n",
       "AU     1511\n",
       "IN     1465\n",
       "SE      728\n",
       "DE      646\n",
       "NL      643\n",
       "DK      482\n",
       "BR      475\n",
       "IL      449\n",
       "NO      406\n",
       "Name: CountryCode, dtype: int64"
      ]
     },
     "execution_count": 44,
     "metadata": {},
     "output_type": "execute_result"
    }
   ],
   "source": [
    "df_clean['CountryCode'].value_counts()[:12]"
   ]
  },
  {
   "cell_type": "code",
   "execution_count": 45,
   "metadata": {},
   "outputs": [
    {
     "data": {
      "text/plain": [
       "0.8652923363615187"
      ]
     },
     "execution_count": 45,
     "metadata": {},
     "output_type": "execute_result"
    }
   ],
   "source": [
    "df_clean['CountryCode'].value_counts()[:12].sum()/len(df_clean['CountryCode'])"
   ]
  },
  {
   "cell_type": "code",
   "execution_count": 46,
   "metadata": {},
   "outputs": [],
   "source": [
    "# Since 86.53% of the clients resides in the top 12 countries by client, I will assign a value of 'Other' to countries\n",
    "# outside the top 12"
   ]
  },
  {
   "cell_type": "code",
   "execution_count": 47,
   "metadata": {},
   "outputs": [],
   "source": [
    "top12_countries = df_clean['CountryCode'].value_counts()[:12].index"
   ]
  },
  {
   "cell_type": "code",
   "execution_count": 48,
   "metadata": {},
   "outputs": [],
   "source": [
    "df_clean['CountryCode'] = df_clean['CountryCode'].apply(lambda x:'Other' if x not in top12_countries else x)"
   ]
  },
  {
   "cell_type": "code",
   "execution_count": 49,
   "metadata": {},
   "outputs": [],
   "source": [
    "# Change target variable into 1 for a succesful renewal or 0 for churned\n",
    "df_clean['EndingState'] = df_clean['EndingState'].apply(lambda x:0 if x == 'Ended' or x == 'Cancelled' else 1)"
   ]
  },
  {
   "cell_type": "code",
   "execution_count": 50,
   "metadata": {},
   "outputs": [],
   "source": [
    "# Copy of the dataframe to be used for modelling\n",
    "df_model = pd.get_dummies(df_clean)"
   ]
  },
  {
   "cell_type": "markdown",
   "metadata": {},
   "source": [
    "# Modelling"
   ]
  },
  {
   "cell_type": "code",
   "execution_count": 51,
   "metadata": {},
   "outputs": [
    {
     "data": {
      "text/plain": [
       "1    35550\n",
       "0     7380\n",
       "Name: EndingState, dtype: int64"
      ]
     },
     "execution_count": 51,
     "metadata": {},
     "output_type": "execute_result"
    }
   ],
   "source": [
    "df_model['EndingState'].value_counts()"
   ]
  },
  {
   "cell_type": "code",
   "execution_count": 52,
   "metadata": {},
   "outputs": [],
   "source": [
    "# The target variable is unbalanced, with a lot more cases for class 1. \n",
    "# After the train test split, I will rebalance the train set using SMOTE, without touching the test set."
   ]
  },
  {
   "cell_type": "code",
   "execution_count": 53,
   "metadata": {},
   "outputs": [],
   "source": [
    "#Train Test Split\n",
    "X = df_model.drop(['EndingState'],axis=1)\n",
    "Y = df_model['EndingState']\n",
    "X_train, X_test, y_train, y_test = train_test_split(X, Y, test_size=0.3)"
   ]
  },
  {
   "cell_type": "markdown",
   "metadata": {},
   "source": [
    "### Upsampling Minority Class"
   ]
  },
  {
   "cell_type": "code",
   "execution_count": 54,
   "metadata": {},
   "outputs": [],
   "source": [
    "# Given that this is a classification problem, it is important to balance the target variable. Otherwise, the model could\n",
    "# just predict the result for the majority class and have a deceivingly high accuracy."
   ]
  },
  {
   "cell_type": "code",
   "execution_count": 55,
   "metadata": {},
   "outputs": [],
   "source": [
    "# Applying SMOTE to generate synthetic samples of the minority class to create balance\n",
    "sm = SMOTE()\n",
    "X_upsampled, y_upsampled = sm.fit_sample(X_train, y_train)"
   ]
  },
  {
   "cell_type": "code",
   "execution_count": 56,
   "metadata": {},
   "outputs": [
    {
     "data": {
      "text/plain": [
       "array([24859, 24859])"
      ]
     },
     "execution_count": 56,
     "metadata": {},
     "output_type": "execute_result"
    }
   ],
   "source": [
    "np.bincount(y_upsampled)"
   ]
  },
  {
   "cell_type": "code",
   "execution_count": 57,
   "metadata": {},
   "outputs": [],
   "source": [
    "# Both classes are balanced"
   ]
  },
  {
   "cell_type": "markdown",
   "metadata": {},
   "source": [
    "### Logistic Regression"
   ]
  },
  {
   "cell_type": "code",
   "execution_count": 58,
   "metadata": {},
   "outputs": [],
   "source": [
    "logreg = LogisticRegression()"
   ]
  },
  {
   "cell_type": "code",
   "execution_count": 59,
   "metadata": {},
   "outputs": [],
   "source": [
    "logreg.fit(X_upsampled, y_upsampled)\n",
    "y_pred_logreg = logreg.predict(X_test)"
   ]
  },
  {
   "cell_type": "code",
   "execution_count": 90,
   "metadata": {},
   "outputs": [
    {
     "name": "stdout",
     "output_type": "stream",
     "text": [
      "Cross Val Model Accuracy: 0.80 (+/- 0.06)\n"
     ]
    }
   ],
   "source": [
    "scores = cross_val_score(logreg, X_upsampled, y_upsampled, cv=10)\n",
    "print(\"Cross Val Model Accuracy: %0.2f (+/- %0.2f)\" % (scores.mean(), scores.std() * 2))"
   ]
  },
  {
   "cell_type": "code",
   "execution_count": 61,
   "metadata": {},
   "outputs": [
    {
     "data": {
      "text/plain": [
       "array([[ 1252,   936],\n",
       "       [  674, 10017]])"
      ]
     },
     "execution_count": 61,
     "metadata": {},
     "output_type": "execute_result"
    }
   ],
   "source": [
    "confusion_matrix(y_test, y_pred_logreg)"
   ]
  },
  {
   "cell_type": "code",
   "execution_count": 62,
   "metadata": {},
   "outputs": [],
   "source": [
    "tn, fp, fn, tp = confusion_matrix(y_test, y_pred_logreg).ravel()"
   ]
  },
  {
   "cell_type": "code",
   "execution_count": 63,
   "metadata": {},
   "outputs": [
    {
     "name": "stdout",
     "output_type": "stream",
     "text": [
      "Sensitivity: 0.9369563183986531\n",
      "Specificity: 0.5722120658135283\n"
     ]
    }
   ],
   "source": [
    "sensitivity_logreg = tp / (tp+fn)\n",
    "specificity_logreg = tn / (tn+fp)\n",
    "print('Sensitivity: '+ str(sensitivity_logreg))\n",
    "print('Specificity: '+ str(specificity_logreg))"
   ]
  },
  {
   "cell_type": "code",
   "execution_count": 94,
   "metadata": {},
   "outputs": [
    {
     "name": "stdout",
     "output_type": "stream",
     "text": [
      "              precision    recall  f1-score   support\n",
      "\n",
      "           0       0.65      0.57      0.61      2188\n",
      "           1       0.91      0.94      0.93     10691\n",
      "\n",
      "   micro avg       0.87      0.87      0.87     12879\n",
      "   macro avg       0.78      0.75      0.77     12879\n",
      "weighted avg       0.87      0.87      0.87     12879\n",
      "\n"
     ]
    }
   ],
   "source": [
    "print(classification_report(y_test, y_pred_logreg))"
   ]
  },
  {
   "cell_type": "code",
   "execution_count": 95,
   "metadata": {},
   "outputs": [
    {
     "data": {
      "image/png": "[encoded data removed]",
      "text/plain": [
       "<Figure size 432x288 with 1 Axes>"
      ]
     },
     "metadata": {
      "needs_background": "light"
     },
     "output_type": "display_data"
    }
   ],
   "source": [
    "logit_roc_auc = roc_auc_score(y_test, logreg.predict(X_test))\n",
    "fpr, tpr, thresholds = roc_curve(y_test, logreg.predict_proba(X_test)[:,1])\n",
    "plt.figure()\n",
    "plt.plot(fpr, tpr, label='Logistic Regression (area = %0.2f)' % logit_roc_auc)\n",
    "plt.plot([0, 1], [0, 1],'r--')\n",
    "plt.xlim([0.0, 1.0])\n",
    "plt.ylim([0.0, 1.05])\n",
    "plt.xlabel('False Positive Rate')\n",
    "plt.ylabel('True Positive Rate')\n",
    "plt.title('Receiver operating characteristic')\n",
    "plt.legend(loc=\"lower right\")\n",
    "plt.show()"
   ]
  },
  {
   "cell_type": "markdown",
   "metadata": {},
   "source": [
    "### Naive Bayes"
   ]
  },
  {
   "cell_type": "code",
   "execution_count": 65,
   "metadata": {},
   "outputs": [],
   "source": [
    "bnb = BernoulliNB()"
   ]
  },
  {
   "cell_type": "code",
   "execution_count": 66,
   "metadata": {},
   "outputs": [],
   "source": [
    "bnb.fit(X_upsampled, y_upsampled)\n",
    "y_pred_bnb = bnb.predict(X_test)"
   ]
  },
  {
   "cell_type": "code",
   "execution_count": 93,
   "metadata": {},
   "outputs": [
    {
     "name": "stdout",
     "output_type": "stream",
     "text": [
      "Cross Val Model Accuracy: 0.83 (+/- 0.09)\n"
     ]
    }
   ],
   "source": [
    "scores = cross_val_score(bnb, X_upsampled, y_upsampled, cv=10)\n",
    "print(\"Cross Val Model Accuracy: %0.2f (+/- %0.2f)\" % (scores.mean(), scores.std() * 2))"
   ]
  },
  {
   "cell_type": "code",
   "execution_count": 68,
   "metadata": {},
   "outputs": [
    {
     "data": {
      "text/plain": [
       "array([[1358,  830],\n",
       "       [1365, 9326]])"
      ]
     },
     "execution_count": 68,
     "metadata": {},
     "output_type": "execute_result"
    }
   ],
   "source": [
    "confusion_matrix(y_test, y_pred_bnb)"
   ]
  },
  {
   "cell_type": "code",
   "execution_count": 69,
   "metadata": {},
   "outputs": [],
   "source": [
    "tn, fp, fn, tp = confusion_matrix(y_test, y_pred_bnb).ravel()"
   ]
  },
  {
   "cell_type": "code",
   "execution_count": 70,
   "metadata": {},
   "outputs": [
    {
     "name": "stdout",
     "output_type": "stream",
     "text": [
      "Sensitivity: 0.8723225142643345\n",
      "Specificity: 0.6206581352833638\n"
     ]
    }
   ],
   "source": [
    "sensitivity_bnb = tp / (tp+fn)\n",
    "specificity_bnb = tn / (tn+fp)\n",
    "print('Sensitivity: '+ str(sensitivity_bnb))\n",
    "print('Specificity: '+ str(specificity_bnb))"
   ]
  },
  {
   "cell_type": "code",
   "execution_count": 98,
   "metadata": {},
   "outputs": [
    {
     "name": "stdout",
     "output_type": "stream",
     "text": [
      "              precision    recall  f1-score   support\n",
      "\n",
      "           0       0.50      0.62      0.55      2188\n",
      "           1       0.92      0.87      0.89     10691\n",
      "\n",
      "   micro avg       0.83      0.83      0.83     12879\n",
      "   macro avg       0.71      0.75      0.72     12879\n",
      "weighted avg       0.85      0.83      0.84     12879\n",
      "\n"
     ]
    }
   ],
   "source": [
    "print(classification_report(y_test, y_pred_bnb))"
   ]
  },
  {
   "cell_type": "code",
   "execution_count": 100,
   "metadata": {},
   "outputs": [
    {
     "data": {
      "image/png": "[encoded data removed]",
      "text/plain": [
       "<Figure size 432x288 with 1 Axes>"
      ]
     },
     "metadata": {
      "needs_background": "light"
     },
     "output_type": "display_data"
    }
   ],
   "source": [
    "bnb_roc_auc = roc_auc_score(y_test, bnb.predict(X_test))\n",
    "fpr, tpr, thresholds = roc_curve(y_test, bnb.predict_proba(X_test)[:,1])\n",
    "plt.figure()\n",
    "plt.plot(fpr, tpr, label='Naive Bayes (area = %0.2f)' % bnb_roc_auc)\n",
    "plt.plot([0, 1], [0, 1],'r--')\n",
    "plt.xlim([0.0, 1.0])\n",
    "plt.ylim([0.0, 1.05])\n",
    "plt.xlabel('False Positive Rate')\n",
    "plt.ylabel('True Positive Rate')\n",
    "plt.title('Receiver operating characteristic')\n",
    "plt.legend(loc=\"lower right\")\n",
    "plt.show()"
   ]
  },
  {
   "cell_type": "markdown",
   "metadata": {},
   "source": [
    "### Random Forest"
   ]
  },
  {
   "cell_type": "code",
   "execution_count": 72,
   "metadata": {},
   "outputs": [],
   "source": [
    "rfc = ensemble.RandomForestClassifier(n_estimators=100)"
   ]
  },
  {
   "cell_type": "code",
   "execution_count": 73,
   "metadata": {},
   "outputs": [],
   "source": [
    "rfc.fit(X_upsampled, y_upsampled)\n",
    "y_pred_rfc = rfc.predict(X_test)"
   ]
  },
  {
   "cell_type": "code",
   "execution_count": 91,
   "metadata": {},
   "outputs": [
    {
     "name": "stdout",
     "output_type": "stream",
     "text": [
      "Cross Val Model Accuracy: 0.93 (+/- 0.21)\n"
     ]
    }
   ],
   "source": [
    "scores = cross_val_score(rfc, X_upsampled, y_upsampled, cv=10)\n",
    "print(\"Cross Val Model Accuracy: %0.2f (+/- %0.2f)\" % (scores.mean(), scores.std() * 2))"
   ]
  },
  {
   "cell_type": "code",
   "execution_count": 76,
   "metadata": {},
   "outputs": [
    {
     "data": {
      "text/plain": [
       "array([[ 1063,  1125],\n",
       "       [  227, 10464]])"
      ]
     },
     "execution_count": 76,
     "metadata": {},
     "output_type": "execute_result"
    }
   ],
   "source": [
    "confusion_matrix(y_test, y_pred_rfc)"
   ]
  },
  {
   "cell_type": "code",
   "execution_count": 77,
   "metadata": {},
   "outputs": [],
   "source": [
    "tn, fp, fn, tp = confusion_matrix(y_test, y_pred_rfc).ravel()"
   ]
  },
  {
   "cell_type": "code",
   "execution_count": 78,
   "metadata": {},
   "outputs": [
    {
     "name": "stdout",
     "output_type": "stream",
     "text": [
      "Sensitivity: 0.978767187353849\n",
      "Specificity: 0.48583180987202923\n"
     ]
    }
   ],
   "source": [
    "sensitivity_rfc = tp / (tp+fn)\n",
    "specificity_rfc = tn / (tn+fp)\n",
    "print('Sensitivity: '+ str(sensitivity_rfc))\n",
    "print('Specificity: '+ str(specificity_rfc))"
   ]
  },
  {
   "cell_type": "code",
   "execution_count": 96,
   "metadata": {},
   "outputs": [
    {
     "name": "stdout",
     "output_type": "stream",
     "text": [
      "              precision    recall  f1-score   support\n",
      "\n",
      "           0       0.82      0.49      0.61      2188\n",
      "           1       0.90      0.98      0.94     10691\n",
      "\n",
      "   micro avg       0.90      0.90      0.90     12879\n",
      "   macro avg       0.86      0.73      0.78     12879\n",
      "weighted avg       0.89      0.90      0.88     12879\n",
      "\n"
     ]
    }
   ],
   "source": [
    "print(classification_report(y_test, y_pred_rfc))"
   ]
  },
  {
   "cell_type": "code",
   "execution_count": 97,
   "metadata": {},
   "outputs": [
    {
     "data": {
      "image/png": "[encoded data removed]",
      "text/plain": [
       "<Figure size 432x288 with 1 Axes>"
      ]
     },
     "metadata": {
      "needs_background": "light"
     },
     "output_type": "display_data"
    }
   ],
   "source": [
    "rfc_roc_auc = roc_auc_score(y_test, rfc.predict(X_test))\n",
    "fpr, tpr, thresholds = roc_curve(y_test, rfc.predict_proba(X_test)[:,1])\n",
    "plt.figure()\n",
    "plt.plot(fpr, tpr, label='Random Forest Classifier (area = %0.2f)' % rfc_roc_auc)\n",
    "plt.plot([0, 1], [0, 1],'r--')\n",
    "plt.xlim([0.0, 1.0])\n",
    "plt.ylim([0.0, 1.05])\n",
    "plt.xlabel('False Positive Rate')\n",
    "plt.ylabel('True Positive Rate')\n",
    "plt.title('Receiver operating characteristic')\n",
    "plt.legend(loc=\"lower right\")\n",
    "plt.show()"
   ]
  },
  {
   "cell_type": "markdown",
   "metadata": {},
   "source": [
    "### K Nearest Neighbors"
   ]
  },
  {
   "cell_type": "code",
   "execution_count": 80,
   "metadata": {},
   "outputs": [],
   "source": [
    "knn = neighbors.KNeighborsClassifier(n_neighbors=2)"
   ]
  },
  {
   "cell_type": "code",
   "execution_count": 81,
   "metadata": {},
   "outputs": [],
   "source": [
    "knn.fit(X_upsampled, y_upsampled)\n",
    "y_pred_knn = knn.predict(X_test)"
   ]
  },
  {
   "cell_type": "code",
   "execution_count": 92,
   "metadata": {},
   "outputs": [
    {
     "name": "stdout",
     "output_type": "stream",
     "text": [
      "Cross Val Model Accuracy: 0.79 (+/- 0.02)\n"
     ]
    }
   ],
   "source": [
    "scores = cross_val_score(knn, X_upsampled, y_upsampled, cv=10)\n",
    "print(\"Cross Val Model Accuracy: %0.2f (+/- %0.2f)\" % (scores.mean(), scores.std() * 2))"
   ]
  },
  {
   "cell_type": "code",
   "execution_count": 83,
   "metadata": {},
   "outputs": [
    {
     "data": {
      "text/plain": [
       "array([[1148, 1040],\n",
       "       [4004, 6687]])"
      ]
     },
     "execution_count": 83,
     "metadata": {},
     "output_type": "execute_result"
    }
   ],
   "source": [
    "confusion_matrix(y_test, y_pred_knn)"
   ]
  },
  {
   "cell_type": "code",
   "execution_count": 84,
   "metadata": {},
   "outputs": [],
   "source": [
    "tn, fp, fn, tp = confusion_matrix(y_test, y_pred_knn).ravel()"
   ]
  },
  {
   "cell_type": "code",
   "execution_count": 85,
   "metadata": {},
   "outputs": [
    {
     "name": "stdout",
     "output_type": "stream",
     "text": [
      "Sensitivity: 0.6254793751753812\n",
      "Specificity: 0.5246800731261426\n"
     ]
    }
   ],
   "source": [
    "sensitivity_knn = tp / (tp+fn)\n",
    "specificity_knn = tn / (tn+fp)\n",
    "print('Sensitivity: '+ str(sensitivity_knn))\n",
    "print('Specificity: '+ str(specificity_knn))"
   ]
  },
  {
   "cell_type": "code",
   "execution_count": 101,
   "metadata": {},
   "outputs": [
    {
     "name": "stdout",
     "output_type": "stream",
     "text": [
      "              precision    recall  f1-score   support\n",
      "\n",
      "           0       0.22      0.52      0.31      2188\n",
      "           1       0.87      0.63      0.73     10691\n",
      "\n",
      "   micro avg       0.61      0.61      0.61     12879\n",
      "   macro avg       0.54      0.58      0.52     12879\n",
      "weighted avg       0.76      0.61      0.66     12879\n",
      "\n"
     ]
    }
   ],
   "source": [
    "print(classification_report(y_test, y_pred_knn))"
   ]
  },
  {
   "cell_type": "code",
   "execution_count": 102,
   "metadata": {},
   "outputs": [
    {
     "data": {
      "image/png": "[encoded data removed]",
      "text/plain": [
       "<Figure size 432x288 with 1 Axes>"
      ]
     },
     "metadata": {
      "needs_background": "light"
     },
     "output_type": "display_data"
    }
   ],
   "source": [
    "knn_roc_auc = roc_auc_score(y_test, knn.predict(X_test))\n",
    "fpr, tpr, thresholds = roc_curve(y_test, knn.predict_proba(X_test)[:,1])\n",
    "plt.figure()\n",
    "plt.plot(fpr, tpr, label='KNN (area = %0.2f)' % knn_roc_auc)\n",
    "plt.plot([0, 1], [0, 1],'r--')\n",
    "plt.xlim([0.0, 1.0])\n",
    "plt.ylim([0.0, 1.05])\n",
    "plt.xlabel('False Positive Rate')\n",
    "plt.ylabel('True Positive Rate')\n",
    "plt.title('Receiver operating characteristic')\n",
    "plt.legend(loc=\"lower right\")\n",
    "plt.show()"
   ]
  },
  {
   "cell_type": "markdown",
   "metadata": {},
   "source": [
    "### Logistic Regression\n",
    "Cross Val Model Accuracy: 0.80 (+/- 0.06)<br>\n",
    "Sensitivity: 0.9369563183986531<br>\n",
    "Specificity: 0.5722120658135283<br>\n",
    "Weighted Avg F1: 0.87<br>\n",
    "ROC Curve Area: 0.75<br>\n",
    "### Naive Bayes\n",
    "Cross Val Model Accuracy: 0.83 (+/- 0.09)<br>\n",
    "Sensitivity: 0.8723225142643345<br>\n",
    "Specificity: 0.6206581352833638<br>\n",
    "Weighted Avg F1: 0.84<br>\n",
    "ROC Curve Area: 0.75<br>\n",
    "### Random Forest\n",
    "Cross Val Model Accuracy: 0.93 (+/- 0.21)<br>\n",
    "Sensitivity: 0.978767187353849<br>\n",
    "Specificity: 0.48583180987202923<br>\n",
    "Weighted Avg F1: 0.88<br>\n",
    "ROC Curve Area: 0.73<br>\n",
    "### KNN\n",
    "Cross Val Model Accuracy: 0.79 (+/- 0.02)<br>\n",
    "Sensitivity: 0.6254793751753812<br>\n",
    "Specificity: 0.5246800731261426<br>\n",
    "Weighted Avg F1: 0.66<br>\n",
    "ROC Curve Area: 0.58<br>"
   ]
  },
  {
   "cell_type": "markdown",
   "metadata": {},
   "source": [
    "## Conclusion\n",
    "After evaluating all the different metrics, I think it is safe to say that the KNN and Random Forest models can be discarded from the final selection. \n",
    "\n",
    "The KNN model has an almost flat curve on the ROC graph, producing the lowest area among all the models. This shows what the values sensitivity and specificity represent, that the model isn't very good at finding true positives and true negatives. It has the lowest F1 score, so this wouldn't be a good choice for this data set.\n",
    "\n",
    "The Random Forest model has the highest accuracy, but it seems overfitted. K-folds cross validation returned an average accuracy of 0.93 with a standard deviation of +/- 0.21. On the plus side, it has the highest F1 score and sensitivity. However, because of how overfitted it is, it wouldn't perform well with different data sets.\n",
    "\n",
    "The final two models, Logistic Regression and Naive Bayes, would both be good choices. They have similar metrics and performed well all around. The main difference is how important sensitivity is to the problem at hand. If its more important to figure out why customers renew memberships, then the Logistic Regression model would be a better choice because of its higher sensitivity. "
   ]
  },
  {
   "cell_type": "code",
   "execution_count": null,
   "metadata": {},
   "outputs": [],
   "source": []
  }
 ],
 "metadata": {
  "kernelspec": {
   "display_name": "Python 3",
   "language": "python",
   "name": "python3"
  },
  "language_info": {
   "codemirror_mode": {
    "name": "ipython",
    "version": 3
   },
   "file_extension": ".py",
   "mimetype": "text/x-python",
   "name": "python",
   "nbconvert_exporter": "python",
   "pygments_lexer": "ipython3",
   "version": "3.7.2"
  }
 },
 "nbformat": 4,
 "nbformat_minor": 2
}
